{
  "nbformat": 4,
  "nbformat_minor": 0,
  "metadata": {
    "colab": {
      "provenance": []
    },
    "kernelspec": {
      "name": "python3",
      "display_name": "Python 3"
    },
    "language_info": {
      "name": "python"
    }
  },
  "cells": [
    {
      "cell_type": "code",
      "execution_count": 1,
      "metadata": {
        "id": "Ifds7Nx7jEhr"
      },
      "outputs": [],
      "source": [
        "# Import initial dependencies\n",
        "\n",
        "# Import dependencies\n",
        "import pandas as pd\n",
        "import numpy as np\n",
        "import matplotlib.pyplot as plt\n",
        "from sklearn.linear_model import LinearRegression"
      ]
    },
    {
      "cell_type": "code",
      "source": [],
      "metadata": {
        "id": "oO6OT4-OjdEk"
      },
      "execution_count": null,
      "outputs": []
    },
    {
      "cell_type": "markdown",
      "source": [
        "There are three different versions of the data set each using different approaches to columns and binning methods. In this first part we pass each of the data sets through a standard linear regression model and examine the performance of the model. \n",
        "\n",
        "In the second part we will pass the data set through the XGBoost model and compare its predictive performance vs the standard linear regression model. "
      ],
      "metadata": {
        "id": "Z--2qGoKj8AJ"
      }
    },
    {
      "cell_type": "markdown",
      "source": [
        "# Part 1: Linear Regression Models"
      ],
      "metadata": {
        "id": "A1ZYQ5HFk4bx"
      }
    },
    {
      "cell_type": "code",
      "source": [
        "# Import the data sets\n",
        "\n",
        "df1 = pd.read_csv('regreadyvgsales2.csv')\n",
        "df2 = pd.read_csv('regreadyvgsales3.csv')\n",
        "df3 = pd.read_csv('regreadyvgsales4.csv')"
      ],
      "metadata": {
        "id": "DppMK0MHkZa8"
      },
      "execution_count": 2,
      "outputs": []
    },
    {
      "cell_type": "markdown",
      "source": [
        "Let's examine the features of each of the data sets. "
      ],
      "metadata": {
        "id": "vlQvALsslPlc"
      }
    },
    {
      "cell_type": "code",
      "source": [
        "df1.info()"
      ],
      "metadata": {
        "colab": {
          "base_uri": "https://localhost:8080/"
        },
        "id": "SjULsbbylNV3",
        "outputId": "d79d1fc5-5edf-4720-f957-1986b5642911"
      },
      "execution_count": 4,
      "outputs": [
        {
          "output_type": "stream",
          "name": "stdout",
          "text": [
            "<class 'pandas.core.frame.DataFrame'>\n",
            "RangeIndex: 6825 entries, 0 to 6824\n",
            "Data columns (total 12 columns):\n",
            " #   Column           Non-Null Count  Dtype  \n",
            "---  ------           --------------  -----  \n",
            " 0   Platform         6825 non-null   int64  \n",
            " 1   Year_of_Release  6825 non-null   float64\n",
            " 2   Genre            6825 non-null   int64  \n",
            " 3   Publisher        6825 non-null   int64  \n",
            " 4   NA_Sales         6825 non-null   float64\n",
            " 5   EU_Sales         6825 non-null   float64\n",
            " 6   JP_Sales         6825 non-null   float64\n",
            " 7   Other_Sales      6825 non-null   float64\n",
            " 8   Global_Sales     6825 non-null   float64\n",
            " 9   Critic_Score     6825 non-null   float64\n",
            " 10  User_Score       6825 non-null   float64\n",
            " 11  Rating           6825 non-null   int64  \n",
            "dtypes: float64(8), int64(4)\n",
            "memory usage: 640.0 KB\n"
          ]
        }
      ]
    },
    {
      "cell_type": "code",
      "source": [
        "df2.info()"
      ],
      "metadata": {
        "colab": {
          "base_uri": "https://localhost:8080/"
        },
        "id": "UzEOv18zlXFd",
        "outputId": "61ff0fd2-64b1-4b7f-87e5-fa5c3e30c471"
      },
      "execution_count": 5,
      "outputs": [
        {
          "output_type": "stream",
          "name": "stdout",
          "text": [
            "<class 'pandas.core.frame.DataFrame'>\n",
            "RangeIndex: 6825 entries, 0 to 6824\n",
            "Data columns (total 24 columns):\n",
            " #   Column              Non-Null Count  Dtype  \n",
            "---  ------              --------------  -----  \n",
            " 0   NA_Sales            6825 non-null   float64\n",
            " 1   EU_Sales            6825 non-null   float64\n",
            " 2   JP_Sales            6825 non-null   float64\n",
            " 3   Other_Sales         6825 non-null   float64\n",
            " 4   Global_Sales        6825 non-null   float64\n",
            " 5   Years_on_Market     6825 non-null   float64\n",
            " 6   Critic_Score        6825 non-null   float64\n",
            " 7   User_Score          6825 non-null   float64\n",
            " 8   Genre_Action        6825 non-null   float64\n",
            " 9   Genre_Adventure     6825 non-null   float64\n",
            " 10  Genre_Fighting      6825 non-null   float64\n",
            " 11  Genre_Misc          6825 non-null   float64\n",
            " 12  Genre_Platform      6825 non-null   float64\n",
            " 13  Genre_Puzzle        6825 non-null   float64\n",
            " 14  Genre_Racing        6825 non-null   float64\n",
            " 15  Genre_Role-Playing  6825 non-null   float64\n",
            " 16  Genre_Shooter       6825 non-null   float64\n",
            " 17  Genre_Simulation    6825 non-null   float64\n",
            " 18  Genre_Sports        6825 non-null   float64\n",
            " 19  Genre_Strategy      6825 non-null   float64\n",
            " 20  Rating_E            6825 non-null   float64\n",
            " 21  Rating_M            6825 non-null   float64\n",
            " 22  Rating_Other        6825 non-null   float64\n",
            " 23  Rating_T            6825 non-null   float64\n",
            "dtypes: float64(24)\n",
            "memory usage: 1.2 MB\n"
          ]
        }
      ]
    },
    {
      "cell_type": "code",
      "source": [
        "df3.info()"
      ],
      "metadata": {
        "colab": {
          "base_uri": "https://localhost:8080/"
        },
        "id": "Dh7oWtYZlb9D",
        "outputId": "76eb332d-04ab-4378-dc0d-5e5d02dd8590"
      },
      "execution_count": 12,
      "outputs": [
        {
          "output_type": "stream",
          "name": "stdout",
          "text": [
            "<class 'pandas.core.frame.DataFrame'>\n",
            "RangeIndex: 6825 entries, 0 to 6824\n",
            "Columns: 168 entries, NA_Sales to Platform_XOne_y\n",
            "dtypes: float64(168)\n",
            "memory usage: 8.7 MB\n"
          ]
        }
      ]
    },
    {
      "cell_type": "code",
      "source": [],
      "metadata": {
        "id": "Z-Ks_U_ilfnY"
      },
      "execution_count": null,
      "outputs": []
    },
    {
      "cell_type": "markdown",
      "source": [
        "## Data Set #1 Linear Regression Model"
      ],
      "metadata": {
        "id": "m1G9bI-YmRbn"
      }
    },
    {
      "cell_type": "code",
      "source": [
        "from sklearn.model_selection import train_test_split\n",
        "from sklearn.metrics import mean_squared_error, r2_score\n",
        "\n",
        "# Target Variable & feature variables\n",
        "y1 = df1.Global_Sales\n",
        "X1 = df1.drop(['Global_Sales', 'NA_Sales','EU_Sales', 'JP_Sales','Other_Sales'], axis=1)\n",
        "\n",
        "# Split data into train & test sets\n",
        "X1_train, X1_test, y1_train, y1_test = train_test_split(X1, y1, random_state=1)\n",
        "\n",
        "# Create the model\n",
        "model = LinearRegression()\n",
        "\n",
        "# Fit model\n",
        "model.fit(X1_train, y1_train)\n",
        "\n",
        "# Evaluate model scores\n",
        "training_score1 = model.score(X1_train, y1_train)\n",
        "testing_score1 = model.score(X1_test, y1_test)\n",
        "\n",
        "# Print score results\n",
        "print(f'Training Score: {training_score1}')\n",
        "print(f'Testing Score: {testing_score1}')\n",
        "\n",
        "# Use our model to predict a value\n",
        "predicted1 = model.predict(X1)\n",
        "\n",
        "# Score the prediction with MSE and R2\n",
        "mse_1 = mean_squared_error(y1, predicted1)\n",
        "r2_1 = r2_score(y1, predicted1)\n",
        "\n",
        "print(f\"mean squared error (MSE): {mse_1}\")\n",
        "print(f\"R-squared (R2 ): {r2_1}\")\n"
      ],
      "metadata": {
        "colab": {
          "base_uri": "https://localhost:8080/"
        },
        "id": "ai_g7jXDmZXu",
        "outputId": "37e44ef8-888d-479b-9a7b-3c8583370461"
      },
      "execution_count": 13,
      "outputs": [
        {
          "output_type": "stream",
          "name": "stdout",
          "text": [
            "Training Score: 0.06586389374708346\n",
            "Testing Score: 0.0488981770903949\n",
            "mean squared error (MSE): 2.3078959016245104\n",
            "R-squared (R2 ): 0.06445781443655518\n"
          ]
        }
      ]
    },
    {
      "cell_type": "markdown",
      "source": [
        "## Data Set #2 Linear Regression Model"
      ],
      "metadata": {
        "id": "VPV8k1s_oY3w"
      }
    },
    {
      "cell_type": "code",
      "source": [
        "# Target Variable & feature variables\n",
        "y2 = df2.Global_Sales\n",
        "X2 = df2.drop(['Global_Sales', 'NA_Sales','EU_Sales', 'JP_Sales','Other_Sales'], axis=1)\n",
        "\n",
        "# Split data into train & test sets\n",
        "X2_train, X2_test, y2_train, y2_test = train_test_split(X2, y2, random_state=1)\n",
        "\n",
        "# Fit model\n",
        "model.fit(X2_train, y2_train)\n",
        "\n",
        "# Evaluate model scores\n",
        "training_score2 = model.score(X2_train, y2_train)\n",
        "testing_score2 = model.score(X2_test, y2_test)\n",
        "\n",
        "# Print score results\n",
        "print(f'Training Score: {training_score2}')\n",
        "print(f'Testing Score: {testing_score2}')\n",
        "\n",
        "# Use our model to predict a value\n",
        "predicted2 = model.predict(X2)\n",
        "\n",
        "# Score the prediction with MSE and R2\n",
        "mse_2 = mean_squared_error(y2, predicted2)\n",
        "r2_2 = r2_score(y2, predicted2)\n",
        "\n",
        "print(f\"mean squared error (MSE): {mse_2}\")\n",
        "print(f\"R-squared (R2 ): {r2_2}\")"
      ],
      "metadata": {
        "colab": {
          "base_uri": "https://localhost:8080/"
        },
        "id": "U8y7H8RYoHU2",
        "outputId": "fba4180e-b7bc-46c8-eb78-b020f970705a"
      },
      "execution_count": 15,
      "outputs": [
        {
          "output_type": "stream",
          "name": "stdout",
          "text": [
            "Training Score: 0.08204159335761674\n",
            "Testing Score: 0.11216124409881678\n",
            "mean squared error (MSE): 8.199766707826239\n",
            "R-squared (R2 ): 0.08709051201632101\n"
          ]
        }
      ]
    },
    {
      "cell_type": "markdown",
      "source": [
        "## Data Set #3 Linear Regression Model"
      ],
      "metadata": {
        "id": "erqyTM2zpFZP"
      }
    },
    {
      "cell_type": "code",
      "source": [
        "# Target Variable & feature variables\n",
        "y3 = df3.Global_Sales\n",
        "X3 = df3.drop(['Global_Sales', 'NA_Sales','EU_Sales', 'JP_Sales','Other_Sales'], axis=1)\n",
        "\n",
        "# Split data into train & test sets\n",
        "X3_train, X3_test, y3_train, y3_test = train_test_split(X3, y3, random_state=1)\n",
        "\n",
        "# Fit model\n",
        "model.fit(X3_train, y3_train)\n",
        "\n",
        "# Evaluate model scores\n",
        "training_score3 = model.score(X3_train, y3_train)\n",
        "testing_score3 = model.score(X3_test, y3_test)\n",
        "\n",
        "# Print score results\n",
        "print(f'Training Score: {training_score3}')\n",
        "print(f'Testing Score: {testing_score3}')\n",
        "\n",
        "# Use our model to predict a value\n",
        "predicted3 = model.predict(X3)\n",
        "\n",
        "# Score the prediction with MSE and R2\n",
        "mse_3 = mean_squared_error(y3, predicted3)\n",
        "r2_3 = r2_score(y3, predicted3)\n",
        "\n",
        "print(f\"mean squared error (MSE): {mse_3}\")\n",
        "print(f\"R-squared (R2 ): {r2_3}\")"
      ],
      "metadata": {
        "colab": {
          "base_uri": "https://localhost:8080/"
        },
        "id": "ahcpR92Xo0oQ",
        "outputId": "aac54621-b64c-4884-84f0-265acad08eef"
      },
      "execution_count": 16,
      "outputs": [
        {
          "output_type": "stream",
          "name": "stdout",
          "text": [
            "Training Score: 0.16672358857984726\n",
            "Testing Score: 0.19349594050854213\n",
            "mean squared error (MSE): 7.444131604072688\n",
            "R-squared (R2 ): 0.1712180829887665\n"
          ]
        }
      ]
    },
    {
      "cell_type": "markdown",
      "source": [
        "# Part 2: XGBoost Regression Model"
      ],
      "metadata": {
        "id": "vC8b8zcnq-yr"
      }
    },
    {
      "cell_type": "markdown",
      "source": [
        "Info about XGBoost: https://machinelearningmastery.com/xgboost-for-regression/"
      ],
      "metadata": {
        "id": "vnzOGICYrFwM"
      }
    },
    {
      "cell_type": "code",
      "source": [
        "import xgboost"
      ],
      "metadata": {
        "id": "SNUD2GxupgNo"
      },
      "execution_count": 17,
      "outputs": []
    },
    {
      "cell_type": "code",
      "source": [],
      "metadata": {
        "id": "zz9WlCvcrM9h"
      },
      "execution_count": null,
      "outputs": []
    }
  ]
}