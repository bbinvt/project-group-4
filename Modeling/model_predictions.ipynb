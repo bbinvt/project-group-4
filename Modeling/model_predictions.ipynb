{
  "nbformat": 4,
  "nbformat_minor": 0,
  "metadata": {
    "colab": {
      "provenance": []
    },
    "kernelspec": {
      "name": "python3",
      "display_name": "Python 3"
    },
    "language_info": {
      "name": "python"
    }
  },
  "cells": [
    {
      "cell_type": "code",
      "execution_count": 2,
      "metadata": {
        "id": "Ifds7Nx7jEhr"
      },
      "outputs": [],
      "source": [
        "# Import initial dependencies\n",
        "\n",
        "# Import dependencies\n",
        "import pandas as pd\n",
        "import numpy as np\n",
        "import matplotlib.pyplot as plt\n",
        "from sklearn.linear_model import LinearRegression"
      ]
    },
    {
      "cell_type": "code",
      "source": [],
      "metadata": {
        "id": "oO6OT4-OjdEk"
      },
      "execution_count": null,
      "outputs": []
    },
    {
      "cell_type": "markdown",
      "source": [
        "There are three different versions of the data set each using different approaches to columns and binning methods. In this first part we pass each of the data sets through a standard linear regression model and examine the performance of the model. \n",
        "\n",
        "In the second part we will pass the data set through the XGBoost model and compare its predictive performance vs the standard linear regression model. "
      ],
      "metadata": {
        "id": "Z--2qGoKj8AJ"
      }
    },
    {
      "cell_type": "markdown",
      "source": [
        "# Part 1: Linear Regression Models"
      ],
      "metadata": {
        "id": "A1ZYQ5HFk4bx"
      }
    },
    {
      "cell_type": "code",
      "source": [
        "# Import the data sets\n",
        "\n",
        "df1 = pd.read_csv('regreadyvgsales2.csv')\n",
        "df2 = pd.read_csv('regreadyvgsales3.csv')\n",
        "df3 = pd.read_csv('regreadyvgsales4.csv')"
      ],
      "metadata": {
        "id": "DppMK0MHkZa8"
      },
      "execution_count": 3,
      "outputs": []
    },
    {
      "cell_type": "markdown",
      "source": [
        "Let's examine the features of each of the data sets. "
      ],
      "metadata": {
        "id": "vlQvALsslPlc"
      }
    },
    {
      "cell_type": "code",
      "source": [
        "df1.info()"
      ],
      "metadata": {
        "colab": {
          "base_uri": "https://localhost:8080/"
        },
        "id": "SjULsbbylNV3",
        "outputId": "5e452f0b-5bfd-45bc-bbf3-2f75c72c37f1"
      },
      "execution_count": 4,
      "outputs": [
        {
          "output_type": "stream",
          "name": "stdout",
          "text": [
            "<class 'pandas.core.frame.DataFrame'>\n",
            "RangeIndex: 6825 entries, 0 to 6824\n",
            "Data columns (total 12 columns):\n",
            " #   Column           Non-Null Count  Dtype  \n",
            "---  ------           --------------  -----  \n",
            " 0   Platform         6825 non-null   int64  \n",
            " 1   Year_of_Release  6825 non-null   float64\n",
            " 2   Genre            6825 non-null   int64  \n",
            " 3   Publisher        6825 non-null   int64  \n",
            " 4   NA_Sales         6825 non-null   float64\n",
            " 5   EU_Sales         6825 non-null   float64\n",
            " 6   JP_Sales         6825 non-null   float64\n",
            " 7   Other_Sales      6825 non-null   float64\n",
            " 8   Global_Sales     6825 non-null   float64\n",
            " 9   Critic_Score     6825 non-null   float64\n",
            " 10  User_Score       6825 non-null   float64\n",
            " 11  Rating           6825 non-null   int64  \n",
            "dtypes: float64(8), int64(4)\n",
            "memory usage: 640.0 KB\n"
          ]
        }
      ]
    },
    {
      "cell_type": "code",
      "source": [
        "df2.info()"
      ],
      "metadata": {
        "colab": {
          "base_uri": "https://localhost:8080/"
        },
        "id": "UzEOv18zlXFd",
        "outputId": "87a2b8d3-e643-4b47-b44b-30d0602188a1"
      },
      "execution_count": 5,
      "outputs": [
        {
          "output_type": "stream",
          "name": "stdout",
          "text": [
            "<class 'pandas.core.frame.DataFrame'>\n",
            "RangeIndex: 6825 entries, 0 to 6824\n",
            "Data columns (total 24 columns):\n",
            " #   Column              Non-Null Count  Dtype  \n",
            "---  ------              --------------  -----  \n",
            " 0   NA_Sales            6825 non-null   float64\n",
            " 1   EU_Sales            6825 non-null   float64\n",
            " 2   JP_Sales            6825 non-null   float64\n",
            " 3   Other_Sales         6825 non-null   float64\n",
            " 4   Global_Sales        6825 non-null   float64\n",
            " 5   Years_on_Market     6825 non-null   float64\n",
            " 6   Critic_Score        6825 non-null   float64\n",
            " 7   User_Score          6825 non-null   float64\n",
            " 8   Genre_Action        6825 non-null   float64\n",
            " 9   Genre_Adventure     6825 non-null   float64\n",
            " 10  Genre_Fighting      6825 non-null   float64\n",
            " 11  Genre_Misc          6825 non-null   float64\n",
            " 12  Genre_Platform      6825 non-null   float64\n",
            " 13  Genre_Puzzle        6825 non-null   float64\n",
            " 14  Genre_Racing        6825 non-null   float64\n",
            " 15  Genre_Role-Playing  6825 non-null   float64\n",
            " 16  Genre_Shooter       6825 non-null   float64\n",
            " 17  Genre_Simulation    6825 non-null   float64\n",
            " 18  Genre_Sports        6825 non-null   float64\n",
            " 19  Genre_Strategy      6825 non-null   float64\n",
            " 20  Rating_E            6825 non-null   float64\n",
            " 21  Rating_M            6825 non-null   float64\n",
            " 22  Rating_Other        6825 non-null   float64\n",
            " 23  Rating_T            6825 non-null   float64\n",
            "dtypes: float64(24)\n",
            "memory usage: 1.2 MB\n"
          ]
        }
      ]
    },
    {
      "cell_type": "code",
      "source": [
        "df3.info()"
      ],
      "metadata": {
        "colab": {
          "base_uri": "https://localhost:8080/"
        },
        "id": "Dh7oWtYZlb9D",
        "outputId": "357363f6-65c5-4cc1-b463-6c5ca3d17c38"
      },
      "execution_count": 6,
      "outputs": [
        {
          "output_type": "stream",
          "name": "stdout",
          "text": [
            "<class 'pandas.core.frame.DataFrame'>\n",
            "RangeIndex: 6825 entries, 0 to 6824\n",
            "Data columns (total 96 columns):\n",
            " #   Column                                            Non-Null Count  Dtype  \n",
            "---  ------                                            --------------  -----  \n",
            " 0   NA_Sales                                          6825 non-null   float64\n",
            " 1   EU_Sales                                          6825 non-null   float64\n",
            " 2   JP_Sales                                          6825 non-null   float64\n",
            " 3   Other_Sales                                       6825 non-null   float64\n",
            " 4   Global_Sales                                      6825 non-null   float64\n",
            " 5   Years_on_Market                                   6825 non-null   float64\n",
            " 6   Critic_Score                                      6825 non-null   float64\n",
            " 7   User_Score                                        6825 non-null   float64\n",
            " 8   Genre_Action                                      6825 non-null   float64\n",
            " 9   Genre_Adventure                                   6825 non-null   float64\n",
            " 10  Genre_Fighting                                    6825 non-null   float64\n",
            " 11  Genre_Misc                                        6825 non-null   float64\n",
            " 12  Genre_Platform                                    6825 non-null   float64\n",
            " 13  Genre_Puzzle                                      6825 non-null   float64\n",
            " 14  Genre_Racing                                      6825 non-null   float64\n",
            " 15  Genre_Role-Playing                                6825 non-null   float64\n",
            " 16  Genre_Shooter                                     6825 non-null   float64\n",
            " 17  Genre_Simulation                                  6825 non-null   float64\n",
            " 18  Genre_Sports                                      6825 non-null   float64\n",
            " 19  Genre_Strategy                                    6825 non-null   float64\n",
            " 20  Rating_E                                          6825 non-null   float64\n",
            " 21  Rating_M                                          6825 non-null   float64\n",
            " 22  Rating_Other                                      6825 non-null   float64\n",
            " 23  Rating_T                                          6825 non-null   float64\n",
            " 24  Publisher_3DO                                     6825 non-null   float64\n",
            " 25  Publisher_505 Games                               6825 non-null   float64\n",
            " 26  Publisher_Acclaim Entertainment                   6825 non-null   float64\n",
            " 27  Publisher_Activision                              6825 non-null   float64\n",
            " 28  Publisher_Atari                                   6825 non-null   float64\n",
            " 29  Publisher_Atlus                                   6825 non-null   float64\n",
            " 30  Publisher_BAM! Entertainment                      6825 non-null   float64\n",
            " 31  Publisher_Bethesda Softworks                      6825 non-null   float64\n",
            " 32  Publisher_Capcom                                  6825 non-null   float64\n",
            " 33  Publisher_Codemasters                             6825 non-null   float64\n",
            " 34  Publisher_Crave Entertainment                     6825 non-null   float64\n",
            " 35  Publisher_D3Publisher                             6825 non-null   float64\n",
            " 36  Publisher_DTP Entertainment                       6825 non-null   float64\n",
            " 37  Publisher_Deep Silver                             6825 non-null   float64\n",
            " 38  Publisher_Disney Interactive Studios              6825 non-null   float64\n",
            " 39  Publisher_Eidos Interactive                       6825 non-null   float64\n",
            " 40  Publisher_Electronic Arts                         6825 non-null   float64\n",
            " 41  Publisher_Empire Interactive                      6825 non-null   float64\n",
            " 42  Publisher_Focus Home Interactive                  6825 non-null   float64\n",
            " 43  Publisher_Global Star                             6825 non-null   float64\n",
            " 44  Publisher_Ignition Entertainment                  6825 non-null   float64\n",
            " 45  Publisher_Infogrames                              6825 non-null   float64\n",
            " 46  Publisher_JoWood Productions                      6825 non-null   float64\n",
            " 47  Publisher_Kalypso Media                           6825 non-null   float64\n",
            " 48  Publisher_Konami Digital Entertainment            6825 non-null   float64\n",
            " 49  Publisher_LucasArts                               6825 non-null   float64\n",
            " 50  Publisher_MTV Games                               6825 non-null   float64\n",
            " 51  Publisher_Majesco Entertainment                   6825 non-null   float64\n",
            " 52  Publisher_Microsoft Game Studios                  6825 non-null   float64\n",
            " 53  Publisher_Midway Games                            6825 non-null   float64\n",
            " 54  Publisher_Namco Bandai Games                      6825 non-null   float64\n",
            " 55  Publisher_Nintendo                                6825 non-null   float64\n",
            " 56  Publisher_Nippon Ichi Software                    6825 non-null   float64\n",
            " 57  Publisher_Nordic Games                            6825 non-null   float64\n",
            " 58  Publisher_Other                                   6825 non-null   float64\n",
            " 59  Publisher_PQube                                   6825 non-null   float64\n",
            " 60  Publisher_Paradox Interactive                     6825 non-null   float64\n",
            " 61  Publisher_Playlogic Game Factory                  6825 non-null   float64\n",
            " 62  Publisher_Rising Star Games                       6825 non-null   float64\n",
            " 63  Publisher_SCi                                     6825 non-null   float64\n",
            " 64  Publisher_Sega                                    6825 non-null   float64\n",
            " 65  Publisher_Sony Computer Entertainment             6825 non-null   float64\n",
            " 66  Publisher_Sony Computer Entertainment Europe      6825 non-null   float64\n",
            " 67  Publisher_SouthPeak Games                         6825 non-null   float64\n",
            " 68  Publisher_Square Enix                             6825 non-null   float64\n",
            " 69  Publisher_TDK Mediactive                          6825 non-null   float64\n",
            " 70  Publisher_THQ                                     6825 non-null   float64\n",
            " 71  Publisher_Take-Two Interactive                    6825 non-null   float64\n",
            " 72  Publisher_Tecmo Koei                              6825 non-null   float64\n",
            " 73  Publisher_Ubisoft                                 6825 non-null   float64\n",
            " 74  Publisher_Ubisoft Annecy                          6825 non-null   float64\n",
            " 75  Publisher_Universal Interactive                   6825 non-null   float64\n",
            " 76  Publisher_Unknown                                 6825 non-null   float64\n",
            " 77  Publisher_Virgin Interactive                      6825 non-null   float64\n",
            " 78  Publisher_Vivendi Games                           6825 non-null   float64\n",
            " 79  Publisher_Warner Bros. Interactive Entertainment  6825 non-null   float64\n",
            " 80  Publisher_Zoo Digital Publishing                  6825 non-null   float64\n",
            " 81  Platform_3DS                                      6825 non-null   float64\n",
            " 82  Platform_DS                                       6825 non-null   float64\n",
            " 83  Platform_GBA                                      6825 non-null   float64\n",
            " 84  Platform_GC                                       6825 non-null   float64\n",
            " 85  Platform_Other                                    6825 non-null   float64\n",
            " 86  Platform_PC                                       6825 non-null   float64\n",
            " 87  Platform_PS                                       6825 non-null   float64\n",
            " 88  Platform_PS2                                      6825 non-null   float64\n",
            " 89  Platform_PS3                                      6825 non-null   float64\n",
            " 90  Platform_PS4                                      6825 non-null   float64\n",
            " 91  Platform_PSP                                      6825 non-null   float64\n",
            " 92  Platform_Wii                                      6825 non-null   float64\n",
            " 93  Platform_X360                                     6825 non-null   float64\n",
            " 94  Platform_XB                                       6825 non-null   float64\n",
            " 95  Platform_XOne                                     6825 non-null   float64\n",
            "dtypes: float64(96)\n",
            "memory usage: 5.0 MB\n"
          ]
        }
      ]
    },
    {
      "cell_type": "code",
      "source": [],
      "metadata": {
        "id": "Z-Ks_U_ilfnY"
      },
      "execution_count": null,
      "outputs": []
    },
    {
      "cell_type": "markdown",
      "source": [
        "## Data Set #1 Linear Regression Model"
      ],
      "metadata": {
        "id": "m1G9bI-YmRbn"
      }
    },
    {
      "cell_type": "code",
      "source": [
        "from sklearn.model_selection import train_test_split\n",
        "from sklearn.metrics import mean_squared_error, r2_score\n",
        "\n",
        "# Target Variable & feature variables\n",
        "y1 = df1.Global_Sales\n",
        "X1 = df1.drop(['Global_Sales', 'NA_Sales','EU_Sales', 'JP_Sales','Other_Sales'], axis=1)\n",
        "\n",
        "# Split data into train & test sets\n",
        "X1_train, X1_test, y1_train, y1_test = train_test_split(X1, y1, random_state=1)\n",
        "\n",
        "# Create the model\n",
        "model = LinearRegression()\n",
        "\n",
        "# Fit model\n",
        "model.fit(X1_train, y1_train)\n",
        "\n",
        "# Evaluate model scores\n",
        "training_score1 = model.score(X1_train, y1_train)\n",
        "testing_score1 = model.score(X1_test, y1_test)\n",
        "\n",
        "# Print score results\n",
        "print(f'Training Score: {training_score1}')\n",
        "print(f'Testing Score: {testing_score1}')\n",
        "\n",
        "# Use our model to predict a value\n",
        "predicted1 = model.predict(X1)\n",
        "\n",
        "# Score the prediction with MSE and R2\n",
        "mse_1 = mean_squared_error(y1, predicted1)\n",
        "r2_1 = r2_score(y1, predicted1)\n",
        "\n",
        "print(f\"mean squared error (MSE): {mse_1}\")\n",
        "print(f\"R-squared (R2 ): {r2_1}\")\n"
      ],
      "metadata": {
        "colab": {
          "base_uri": "https://localhost:8080/"
        },
        "id": "ai_g7jXDmZXu",
        "outputId": "33eaca92-014a-446d-8f8f-53cabb9abf18"
      },
      "execution_count": 7,
      "outputs": [
        {
          "output_type": "stream",
          "name": "stdout",
          "text": [
            "Training Score: 0.06586389374708346\n",
            "Testing Score: 0.0488981770903949\n",
            "mean squared error (MSE): 2.3078959016245104\n",
            "R-squared (R2 ): 0.06445781443655518\n"
          ]
        }
      ]
    },
    {
      "cell_type": "markdown",
      "source": [
        "## Data Set #2 Linear Regression Model"
      ],
      "metadata": {
        "id": "VPV8k1s_oY3w"
      }
    },
    {
      "cell_type": "code",
      "source": [
        "# Target Variable & feature variables\n",
        "y2 = df2.Global_Sales\n",
        "X2 = df2.drop(['Global_Sales', 'NA_Sales','EU_Sales', 'JP_Sales','Other_Sales'], axis=1)\n",
        "\n",
        "# Split data into train & test sets\n",
        "X2_train, X2_test, y2_train, y2_test = train_test_split(X2, y2, random_state=1)\n",
        "\n",
        "# Fit model\n",
        "model.fit(X2_train, y2_train)\n",
        "\n",
        "# Evaluate model scores\n",
        "training_score2 = model.score(X2_train, y2_train)\n",
        "testing_score2 = model.score(X2_test, y2_test)\n",
        "\n",
        "# Print score results\n",
        "print(f'Training Score: {training_score2}')\n",
        "print(f'Testing Score: {testing_score2}')\n",
        "\n",
        "# Use our model to predict a value\n",
        "predicted2 = model.predict(X2)\n",
        "\n",
        "# Score the prediction with MSE and R2\n",
        "mse_2 = mean_squared_error(y2, predicted2)\n",
        "r2_2 = r2_score(y2, predicted2)\n",
        "\n",
        "print(f\"mean squared error (MSE): {mse_2}\")\n",
        "print(f\"R-squared (R2 ): {r2_2}\")"
      ],
      "metadata": {
        "colab": {
          "base_uri": "https://localhost:8080/"
        },
        "id": "U8y7H8RYoHU2",
        "outputId": "3196f720-0e4b-4f4b-f57d-3637731df7cc"
      },
      "execution_count": 8,
      "outputs": [
        {
          "output_type": "stream",
          "name": "stdout",
          "text": [
            "Training Score: 0.08204159335761674\n",
            "Testing Score: 0.11216124409881678\n",
            "mean squared error (MSE): 8.199766707826239\n",
            "R-squared (R2 ): 0.08709051201632101\n"
          ]
        }
      ]
    },
    {
      "cell_type": "markdown",
      "source": [
        "## Data Set #3 Linear Regression Model"
      ],
      "metadata": {
        "id": "erqyTM2zpFZP"
      }
    },
    {
      "cell_type": "code",
      "source": [
        "# Target Variable & feature variables\n",
        "y3 = df3.Global_Sales\n",
        "X3 = df3.drop(['Global_Sales', 'NA_Sales','EU_Sales', 'JP_Sales','Other_Sales'], axis=1)\n",
        "\n",
        "# Split data into train & test sets\n",
        "X3_train, X3_test, y3_train, y3_test = train_test_split(X3, y3, random_state=1)\n",
        "\n",
        "# Fit model\n",
        "model.fit(X3_train, y3_train)\n",
        "\n",
        "# Evaluate model scores\n",
        "training_score3 = model.score(X3_train, y3_train)\n",
        "testing_score3 = model.score(X3_test, y3_test)\n",
        "\n",
        "# Print score results\n",
        "print(f'Training Score: {training_score3}')\n",
        "print(f'Testing Score: {testing_score3}')\n",
        "\n",
        "# Use our model to predict a value\n",
        "predicted3 = model.predict(X3)\n",
        "\n",
        "# Score the prediction with MSE and R2\n",
        "mse_3 = mean_squared_error(y3, predicted3)\n",
        "r2_3 = r2_score(y3, predicted3)\n",
        "\n",
        "print(f\"mean squared error (MSE): {mse_3}\")\n",
        "print(f\"R-squared (R2 ): {r2_3}\")"
      ],
      "metadata": {
        "colab": {
          "base_uri": "https://localhost:8080/"
        },
        "id": "ahcpR92Xo0oQ",
        "outputId": "d79a22d6-09ca-4cba-e8c7-129f9e6131b3"
      },
      "execution_count": 9,
      "outputs": [
        {
          "output_type": "stream",
          "name": "stdout",
          "text": [
            "Training Score: 0.16672347392305353\n",
            "Testing Score: 0.19351096922810818\n",
            "mean squared error (MSE): 7.444111428049784\n",
            "R-squared (R2 ): 0.17122032925788555\n"
          ]
        }
      ]
    },
    {
      "cell_type": "markdown",
      "source": [
        "# Part 2: XGBoost Regression Model"
      ],
      "metadata": {
        "id": "vC8b8zcnq-yr"
      }
    },
    {
      "cell_type": "markdown",
      "source": [
        "Info about XGBoost: https://machinelearningmastery.com/xgboost-for-regression/"
      ],
      "metadata": {
        "id": "vnzOGICYrFwM"
      }
    },
    {
      "cell_type": "code",
      "source": [
        "import xgboost"
      ],
      "metadata": {
        "id": "SNUD2GxupgNo"
      },
      "execution_count": null,
      "outputs": []
    },
    {
      "cell_type": "code",
      "source": [
        "from xgboost.sklearn import XGBRegressor\n",
        "# Split the data\n",
        "y = df2.Global_Sales\n",
        "X = df2.drop(['Global_Sales', 'NA_Sales','EU_Sales', 'JP_Sales','Other_Sales'], axis=1)\n",
        "\n",
        "X_train, X_test, y_train, y_test = train_test_split(X,y, random_state=1)\n",
        "\n",
        "# Create the model\n",
        "model = XGBRegressor()\n",
        "\n",
        "# Fit the model\n",
        "model.fit(X_train, y_train)\n",
        "training_score = model.score(X_train, y_train)\n",
        "testing_score = model.score(X_test, y_test)\n",
        "\n",
        "print(f'Training Score: {training_score}')\n",
        "print(f'Testing Score: {testing_score}')"
      ],
      "metadata": {
        "colab": {
          "base_uri": "https://localhost:8080/"
        },
        "id": "zz9WlCvcrM9h",
        "outputId": "f06dd639-27b6-4812-c3f2-841f286a8371"
      },
      "execution_count": 10,
      "outputs": [
        {
          "output_type": "stream",
          "name": "stdout",
          "text": [
            "[01:08:29] WARNING: /workspace/src/objective/regression_obj.cu:152: reg:linear is now deprecated in favor of reg:squarederror.\n",
            "Training Score: 0.26383248855088337\n",
            "Testing Score: 0.2789253271457218\n"
          ]
        }
      ]
    },
    {
      "cell_type": "code",
      "source": [
        "# Use our model to predict a value\n",
        "predicted = model.predict(X)\n",
        "\n",
        "# Score the prediction with MSE and R2\n",
        "mse = mean_squared_error(y, predicted)\n",
        "r2 = r2_score(y, predicted)\n",
        "\n",
        "print(f\"mean squared error (MSE): {mse}\")\n",
        "print(f\"R-squared (R2 ): {r2}\")"
      ],
      "metadata": {
        "colab": {
          "base_uri": "https://localhost:8080/"
        },
        "id": "pqsGt_GxxM73",
        "outputId": "50da9367-2db2-43b7-e3cd-bfdb2897710f"
      },
      "execution_count": 11,
      "outputs": [
        {
          "output_type": "stream",
          "name": "stdout",
          "text": [
            "mean squared error (MSE): 6.588587281075881\n",
            "R-squared (R2 ): 0.26646890629681297\n"
          ]
        }
      ]
    },
    {
      "cell_type": "code",
      "source": [
        "# Split the data\n",
        "y = df3.Global_Sales\n",
        "X = df3.drop(['Global_Sales', 'NA_Sales','EU_Sales', 'JP_Sales','Other_Sales'], axis=1)\n",
        "\n",
        "X_train, X_test, y_train, y_test = train_test_split(X,y, random_state=1)\n",
        "\n",
        "# Create the model\n",
        "model = XGBRegressor()\n",
        "\n",
        "# Fit the model\n",
        "model.fit(X_train, y_train)\n",
        "training_score = model.score(X_train, y_train)\n",
        "testing_score = model.score(X_test, y_test)\n",
        "\n",
        "print(f'Training Score: {training_score}')\n",
        "print(f'Testing Score: {testing_score}')\n",
        "\n",
        "# Use our model to predict a value\n",
        "predicted = model.predict(X)\n",
        "\n",
        "# Score the prediction with MSE and R2\n",
        "mse = mean_squared_error(y, predicted)\n",
        "r2 = r2_score(y, predicted)\n",
        "\n",
        "print(f\"mean squared error (MSE): {mse}\")\n",
        "print(f\"R-squared (R2 ): {r2}\")"
      ],
      "metadata": {
        "colab": {
          "base_uri": "https://localhost:8080/"
        },
        "id": "GB0Y_JmQxfmE",
        "outputId": "b182f45c-54bc-4250-bb2b-b54774516d80"
      },
      "execution_count": 12,
      "outputs": [
        {
          "output_type": "stream",
          "name": "stdout",
          "text": [
            "[01:08:40] WARNING: /workspace/src/objective/regression_obj.cu:152: reg:linear is now deprecated in favor of reg:squarederror.\n",
            "Training Score: 0.41550298947857134\n",
            "Testing Score: 0.32921483953108266\n",
            "mean squared error (MSE): 5.3687549489464335\n",
            "R-squared (R2 ): 0.40227722248797515\n"
          ]
        }
      ]
    },
    {
      "cell_type": "code",
      "source": [
        "df4 = pd.read_csv('regreadyvgsales_EXTRA.csv')"
      ],
      "metadata": {
        "id": "-Q7VBBUYxzFG"
      },
      "execution_count": 13,
      "outputs": []
    },
    {
      "cell_type": "code",
      "source": [
        "# Split the data\n",
        "y = df4.Global_Sales\n",
        "X = df4.drop(['Global_Sales', 'NA_Sales','EU_Sales', 'JP_Sales','Other_Sales'], axis=1)\n",
        "\n",
        "X_train, X_test, y_train, y_test = train_test_split(X,y, random_state=1)\n",
        "\n",
        "# Create the model\n",
        "model = XGBRegressor()\n",
        "\n",
        "# Fit the model\n",
        "model.fit(X_train, y_train)\n",
        "training_score = model.score(X_train, y_train)\n",
        "testing_score = model.score(X_test, y_test)\n",
        "\n",
        "print(f'Training Score: {training_score}')\n",
        "print(f'Testing Score: {testing_score}')\n",
        "\n",
        "# Use our model to predict a value\n",
        "predicted = model.predict(X)\n",
        "\n",
        "# Score the prediction with MSE and R2\n",
        "mse = mean_squared_error(y, predicted)\n",
        "r2 = r2_score(y, predicted)\n",
        "\n",
        "print(f\"mean squared error (MSE): {mse}\")\n",
        "print(f\"R-squared (R2 ): {r2}\")"
      ],
      "metadata": {
        "colab": {
          "base_uri": "https://localhost:8080/"
        },
        "id": "tbfGtmIMYFNp",
        "outputId": "7ba5ae5b-efc1-41aa-be08-0cce43edf921"
      },
      "execution_count": 14,
      "outputs": [
        {
          "output_type": "stream",
          "name": "stdout",
          "text": [
            "[01:11:01] WARNING: /workspace/src/objective/regression_obj.cu:152: reg:linear is now deprecated in favor of reg:squarederror.\n",
            "Training Score: 0.4016334363603684\n",
            "Testing Score: 0.2454231441173378\n",
            "mean squared error (MSE): 2.37852534355748\n",
            "R-squared (R2 ): 0.38292931239721884\n"
          ]
        }
      ]
    },
    {
      "cell_type": "code",
      "source": [],
      "metadata": {
        "id": "Y2vTqzkUYJVL"
      },
      "execution_count": null,
      "outputs": []
    }
  ]
}