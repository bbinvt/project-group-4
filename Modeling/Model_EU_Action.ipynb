{
  "nbformat": 4,
  "nbformat_minor": 0,
  "metadata": {
    "colab": {
      "provenance": []
    },
    "kernelspec": {
      "name": "python3",
      "display_name": "Python 3"
    },
    "language_info": {
      "name": "python"
    }
  },
  "cells": [
    {
      "cell_type": "code",
      "execution_count": 1,
      "metadata": {
        "id": "RCkFRcIioCOg"
      },
      "outputs": [],
      "source": [
        "import pandas as pd\n",
        "import numpy as np\n",
        "import matplotlib.pyplot as plt\n",
        "from sklearn.linear_model import LinearRegression\n",
        "from sklearn.model_selection import train_test_split\n",
        "from sklearn.metrics import mean_squared_error, r2_score\n",
        "from xgboost.sklearn import XGBRegressor"
      ]
    },
    {
      "cell_type": "code",
      "source": [
        "df = pd.read_csv('vgsales_EU_Action.csv')"
      ],
      "metadata": {
        "id": "6vVUzeG5oU6o"
      },
      "execution_count": 3,
      "outputs": []
    },
    {
      "cell_type": "code",
      "source": [
        "df.info()"
      ],
      "metadata": {
        "colab": {
          "base_uri": "https://localhost:8080/"
        },
        "id": "7bFdq-0ypmP1",
        "outputId": "5656ff7a-4d03-40bc-9184-251c2c61ea5f"
      },
      "execution_count": 6,
      "outputs": [
        {
          "output_type": "stream",
          "name": "stdout",
          "text": [
            "<class 'pandas.core.frame.DataFrame'>\n",
            "RangeIndex: 1630 entries, 0 to 1629\n",
            "Data columns (total 80 columns):\n",
            " #   Column                                            Non-Null Count  Dtype  \n",
            "---  ------                                            --------------  -----  \n",
            " 0   EU_Sales                                          1630 non-null   float64\n",
            " 1   Years_on_Market                                   1630 non-null   float64\n",
            " 2   Critic_Score                                      1630 non-null   float64\n",
            " 3   User_Score                                        1630 non-null   float64\n",
            " 4   Rating_E                                          1630 non-null   float64\n",
            " 5   Rating_M                                          1630 non-null   float64\n",
            " 6   Rating_Other                                      1630 non-null   float64\n",
            " 7   Rating_T                                          1630 non-null   float64\n",
            " 8   Publisher_3DO                                     1630 non-null   float64\n",
            " 9   Publisher_505 Games                               1630 non-null   float64\n",
            " 10  Publisher_Acclaim Entertainment                   1630 non-null   float64\n",
            " 11  Publisher_Activision                              1630 non-null   float64\n",
            " 12  Publisher_Atari                                   1630 non-null   float64\n",
            " 13  Publisher_Atlus                                   1630 non-null   float64\n",
            " 14  Publisher_BAM! Entertainment                      1630 non-null   float64\n",
            " 15  Publisher_Bethesda Softworks                      1630 non-null   float64\n",
            " 16  Publisher_Capcom                                  1630 non-null   float64\n",
            " 17  Publisher_Codemasters                             1630 non-null   float64\n",
            " 18  Publisher_Crave Entertainment                     1630 non-null   float64\n",
            " 19  Publisher_D3Publisher                             1630 non-null   float64\n",
            " 20  Publisher_DTP Entertainment                       1630 non-null   float64\n",
            " 21  Publisher_Deep Silver                             1630 non-null   float64\n",
            " 22  Publisher_Disney Interactive Studios              1630 non-null   float64\n",
            " 23  Publisher_Eidos Interactive                       1630 non-null   float64\n",
            " 24  Publisher_Electronic Arts                         1630 non-null   float64\n",
            " 25  Publisher_Empire Interactive                      1630 non-null   float64\n",
            " 26  Publisher_Focus Home Interactive                  1630 non-null   float64\n",
            " 27  Publisher_Global Star                             1630 non-null   float64\n",
            " 28  Publisher_Ignition Entertainment                  1630 non-null   float64\n",
            " 29  Publisher_Infogrames                              1630 non-null   float64\n",
            " 30  Publisher_JoWood Productions                      1630 non-null   float64\n",
            " 31  Publisher_Kalypso Media                           1630 non-null   float64\n",
            " 32  Publisher_Konami Digital Entertainment            1630 non-null   float64\n",
            " 33  Publisher_LucasArts                               1630 non-null   float64\n",
            " 34  Publisher_MTV Games                               1630 non-null   float64\n",
            " 35  Publisher_Majesco Entertainment                   1630 non-null   float64\n",
            " 36  Publisher_Microsoft Game Studios                  1630 non-null   float64\n",
            " 37  Publisher_Midway Games                            1630 non-null   float64\n",
            " 38  Publisher_Namco Bandai Games                      1630 non-null   float64\n",
            " 39  Publisher_Nintendo                                1630 non-null   float64\n",
            " 40  Publisher_Nippon Ichi Software                    1630 non-null   float64\n",
            " 41  Publisher_Nordic Games                            1630 non-null   float64\n",
            " 42  Publisher_Other                                   1630 non-null   float64\n",
            " 43  Publisher_PQube                                   1630 non-null   float64\n",
            " 44  Publisher_Paradox Interactive                     1630 non-null   float64\n",
            " 45  Publisher_Playlogic Game Factory                  1630 non-null   float64\n",
            " 46  Publisher_Rising Star Games                       1630 non-null   float64\n",
            " 47  Publisher_SCi                                     1630 non-null   float64\n",
            " 48  Publisher_Sega                                    1630 non-null   float64\n",
            " 49  Publisher_Sony Computer Entertainment             1630 non-null   float64\n",
            " 50  Publisher_Sony Computer Entertainment Europe      1630 non-null   float64\n",
            " 51  Publisher_SouthPeak Games                         1630 non-null   float64\n",
            " 52  Publisher_Square Enix                             1630 non-null   float64\n",
            " 53  Publisher_TDK Mediactive                          1630 non-null   float64\n",
            " 54  Publisher_THQ                                     1630 non-null   float64\n",
            " 55  Publisher_Take-Two Interactive                    1630 non-null   float64\n",
            " 56  Publisher_Tecmo Koei                              1630 non-null   float64\n",
            " 57  Publisher_Ubisoft                                 1630 non-null   float64\n",
            " 58  Publisher_Ubisoft Annecy                          1630 non-null   float64\n",
            " 59  Publisher_Universal Interactive                   1630 non-null   float64\n",
            " 60  Publisher_Unknown                                 1630 non-null   float64\n",
            " 61  Publisher_Virgin Interactive                      1630 non-null   float64\n",
            " 62  Publisher_Vivendi Games                           1630 non-null   float64\n",
            " 63  Publisher_Warner Bros. Interactive Entertainment  1630 non-null   float64\n",
            " 64  Publisher_Zoo Digital Publishing                  1630 non-null   float64\n",
            " 65  Platform_3DS                                      1630 non-null   float64\n",
            " 66  Platform_DS                                       1630 non-null   float64\n",
            " 67  Platform_GBA                                      1630 non-null   float64\n",
            " 68  Platform_GC                                       1630 non-null   float64\n",
            " 69  Platform_Other                                    1630 non-null   float64\n",
            " 70  Platform_PC                                       1630 non-null   float64\n",
            " 71  Platform_PS                                       1630 non-null   float64\n",
            " 72  Platform_PS2                                      1630 non-null   float64\n",
            " 73  Platform_PS3                                      1630 non-null   float64\n",
            " 74  Platform_PS4                                      1630 non-null   float64\n",
            " 75  Platform_PSP                                      1630 non-null   float64\n",
            " 76  Platform_Wii                                      1630 non-null   float64\n",
            " 77  Platform_X360                                     1630 non-null   float64\n",
            " 78  Platform_XB                                       1630 non-null   float64\n",
            " 79  Platform_XOne                                     1630 non-null   float64\n",
            "dtypes: float64(80)\n",
            "memory usage: 1018.9 KB\n"
          ]
        }
      ]
    },
    {
      "cell_type": "code",
      "source": [
        "# Split the data\n",
        "y = df.EU_Sales\n",
        "X = df.drop(['EU_Sales'], axis=1)\n",
        "\n",
        "X_train, X_test, y_train, y_test = train_test_split(X,y, random_state=1)\n",
        "\n",
        "# Create the model\n",
        "model = XGBRegressor()\n",
        "\n",
        "# Fit the model\n",
        "model.fit(X_train, y_train)\n",
        "training_score = model.score(X_train, y_train)\n",
        "testing_score = model.score(X_test, y_test)\n",
        "\n",
        "print(f'Training Score: {training_score}')\n",
        "print(f'Testing Score: {testing_score}')\n",
        "\n",
        "# Use our model to predict a value\n",
        "predicted = model.predict(X)\n",
        "\n",
        "# Score the prediction with MSE and R2\n",
        "mse = mean_squared_error(y, predicted)\n",
        "r2 = r2_score(y, predicted)\n",
        "\n",
        "print(f\"mean squared error (MSE): {mse}\")\n",
        "print(f\"R-squared (R2 ): {r2}\")"
      ],
      "metadata": {
        "colab": {
          "base_uri": "https://localhost:8080/"
        },
        "id": "HkGDoik8oMYT",
        "outputId": "d42279df-cc8c-41b1-99d1-4b34679535ef"
      },
      "execution_count": 5,
      "outputs": [
        {
          "output_type": "stream",
          "name": "stdout",
          "text": [
            "[00:59:43] WARNING: /workspace/src/objective/regression_obj.cu:152: reg:linear is now deprecated in favor of reg:squarederror.\n",
            "Training Score: 0.7866646567002091\n",
            "Testing Score: 0.26239735908861717\n",
            "mean squared error (MSE): 0.20558058628891054\n",
            "R-squared (R2 ): 0.6303592289452855\n"
          ]
        }
      ]
    },
    {
      "cell_type": "code",
      "source": [],
      "metadata": {
        "id": "q3rD2EnOoSmK"
      },
      "execution_count": null,
      "outputs": []
    }
  ]
}