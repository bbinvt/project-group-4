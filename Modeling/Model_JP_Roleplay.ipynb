{
  "nbformat": 4,
  "nbformat_minor": 0,
  "metadata": {
    "colab": {
      "provenance": []
    },
    "kernelspec": {
      "name": "python3",
      "display_name": "Python 3"
    },
    "language_info": {
      "name": "python"
    }
  },
  "cells": [
    {
      "cell_type": "code",
      "execution_count": 1,
      "metadata": {
        "id": "uwDVuG1Lo8r3"
      },
      "outputs": [],
      "source": [
        "import pandas as pd\n",
        "import numpy as np\n",
        "import matplotlib.pyplot as plt\n",
        "from sklearn.linear_model import LinearRegression\n",
        "from sklearn.model_selection import train_test_split\n",
        "from sklearn.metrics import mean_squared_error, r2_score\n",
        "from xgboost.sklearn import XGBRegressor"
      ]
    },
    {
      "cell_type": "code",
      "source": [
        "df = pd.read_csv('vgsales_JP_ROLEPLAY.csv')"
      ],
      "metadata": {
        "id": "z66wLPw3pDPw"
      },
      "execution_count": 2,
      "outputs": []
    },
    {
      "cell_type": "code",
      "source": [
        "df.info()"
      ],
      "metadata": {
        "colab": {
          "base_uri": "https://localhost:8080/"
        },
        "id": "Hsjj6hrOpgxM",
        "outputId": "0e852871-7066-4f2d-c02f-6fd577b3dbda"
      },
      "execution_count": 7,
      "outputs": [
        {
          "output_type": "stream",
          "name": "stdout",
          "text": [
            "<class 'pandas.core.frame.DataFrame'>\n",
            "RangeIndex: 712 entries, 0 to 711\n",
            "Data columns (total 80 columns):\n",
            " #   Column                                            Non-Null Count  Dtype  \n",
            "---  ------                                            --------------  -----  \n",
            " 0   JP_Sales                                          712 non-null    float64\n",
            " 1   Years_on_Market                                   712 non-null    float64\n",
            " 2   Critic_Score                                      712 non-null    float64\n",
            " 3   User_Score                                        712 non-null    float64\n",
            " 4   Rating_E                                          712 non-null    float64\n",
            " 5   Rating_M                                          712 non-null    float64\n",
            " 6   Rating_Other                                      712 non-null    float64\n",
            " 7   Rating_T                                          712 non-null    float64\n",
            " 8   Publisher_3DO                                     712 non-null    float64\n",
            " 9   Publisher_505 Games                               712 non-null    float64\n",
            " 10  Publisher_Acclaim Entertainment                   712 non-null    float64\n",
            " 11  Publisher_Activision                              712 non-null    float64\n",
            " 12  Publisher_Atari                                   712 non-null    float64\n",
            " 13  Publisher_Atlus                                   712 non-null    float64\n",
            " 14  Publisher_BAM! Entertainment                      712 non-null    float64\n",
            " 15  Publisher_Bethesda Softworks                      712 non-null    float64\n",
            " 16  Publisher_Capcom                                  712 non-null    float64\n",
            " 17  Publisher_Codemasters                             712 non-null    float64\n",
            " 18  Publisher_Crave Entertainment                     712 non-null    float64\n",
            " 19  Publisher_D3Publisher                             712 non-null    float64\n",
            " 20  Publisher_DTP Entertainment                       712 non-null    float64\n",
            " 21  Publisher_Deep Silver                             712 non-null    float64\n",
            " 22  Publisher_Disney Interactive Studios              712 non-null    float64\n",
            " 23  Publisher_Eidos Interactive                       712 non-null    float64\n",
            " 24  Publisher_Electronic Arts                         712 non-null    float64\n",
            " 25  Publisher_Empire Interactive                      712 non-null    float64\n",
            " 26  Publisher_Focus Home Interactive                  712 non-null    float64\n",
            " 27  Publisher_Global Star                             712 non-null    float64\n",
            " 28  Publisher_Ignition Entertainment                  712 non-null    float64\n",
            " 29  Publisher_Infogrames                              712 non-null    float64\n",
            " 30  Publisher_JoWood Productions                      712 non-null    float64\n",
            " 31  Publisher_Kalypso Media                           712 non-null    float64\n",
            " 32  Publisher_Konami Digital Entertainment            712 non-null    float64\n",
            " 33  Publisher_LucasArts                               712 non-null    float64\n",
            " 34  Publisher_MTV Games                               712 non-null    float64\n",
            " 35  Publisher_Majesco Entertainment                   712 non-null    float64\n",
            " 36  Publisher_Microsoft Game Studios                  712 non-null    float64\n",
            " 37  Publisher_Midway Games                            712 non-null    float64\n",
            " 38  Publisher_Namco Bandai Games                      712 non-null    float64\n",
            " 39  Publisher_Nintendo                                712 non-null    float64\n",
            " 40  Publisher_Nippon Ichi Software                    712 non-null    float64\n",
            " 41  Publisher_Nordic Games                            712 non-null    float64\n",
            " 42  Publisher_Other                                   712 non-null    float64\n",
            " 43  Publisher_PQube                                   712 non-null    float64\n",
            " 44  Publisher_Paradox Interactive                     712 non-null    float64\n",
            " 45  Publisher_Playlogic Game Factory                  712 non-null    float64\n",
            " 46  Publisher_Rising Star Games                       712 non-null    float64\n",
            " 47  Publisher_SCi                                     712 non-null    float64\n",
            " 48  Publisher_Sega                                    712 non-null    float64\n",
            " 49  Publisher_Sony Computer Entertainment             712 non-null    float64\n",
            " 50  Publisher_Sony Computer Entertainment Europe      712 non-null    float64\n",
            " 51  Publisher_SouthPeak Games                         712 non-null    float64\n",
            " 52  Publisher_Square Enix                             712 non-null    float64\n",
            " 53  Publisher_TDK Mediactive                          712 non-null    float64\n",
            " 54  Publisher_THQ                                     712 non-null    float64\n",
            " 55  Publisher_Take-Two Interactive                    712 non-null    float64\n",
            " 56  Publisher_Tecmo Koei                              712 non-null    float64\n",
            " 57  Publisher_Ubisoft                                 712 non-null    float64\n",
            " 58  Publisher_Ubisoft Annecy                          712 non-null    float64\n",
            " 59  Publisher_Universal Interactive                   712 non-null    float64\n",
            " 60  Publisher_Unknown                                 712 non-null    float64\n",
            " 61  Publisher_Virgin Interactive                      712 non-null    float64\n",
            " 62  Publisher_Vivendi Games                           712 non-null    float64\n",
            " 63  Publisher_Warner Bros. Interactive Entertainment  712 non-null    float64\n",
            " 64  Publisher_Zoo Digital Publishing                  712 non-null    float64\n",
            " 65  Platform_3DS                                      712 non-null    float64\n",
            " 66  Platform_DS                                       712 non-null    float64\n",
            " 67  Platform_GBA                                      712 non-null    float64\n",
            " 68  Platform_GC                                       712 non-null    float64\n",
            " 69  Platform_Other                                    712 non-null    float64\n",
            " 70  Platform_PC                                       712 non-null    float64\n",
            " 71  Platform_PS                                       712 non-null    float64\n",
            " 72  Platform_PS2                                      712 non-null    float64\n",
            " 73  Platform_PS3                                      712 non-null    float64\n",
            " 74  Platform_PS4                                      712 non-null    float64\n",
            " 75  Platform_PSP                                      712 non-null    float64\n",
            " 76  Platform_Wii                                      712 non-null    float64\n",
            " 77  Platform_X360                                     712 non-null    float64\n",
            " 78  Platform_XB                                       712 non-null    float64\n",
            " 79  Platform_XOne                                     712 non-null    float64\n",
            "dtypes: float64(80)\n",
            "memory usage: 445.1 KB\n"
          ]
        }
      ]
    },
    {
      "cell_type": "code",
      "source": [
        "# Split the data\n",
        "y = df.JP_Sales\n",
        "X = df.drop(['JP_Sales'], axis=1)\n",
        "\n",
        "X_train, X_test, y_train, y_test = train_test_split(X,y, random_state=1)\n",
        "\n",
        "# Create the model\n",
        "model = XGBRegressor()\n",
        "\n",
        "# Fit the model\n",
        "model.fit(X_train, y_train)\n",
        "training_score = model.score(X_train, y_train)\n",
        "testing_score = model.score(X_test, y_test)\n",
        "\n",
        "print(f'Training Score: {training_score}')\n",
        "print(f'Testing Score: {testing_score}')\n",
        "\n",
        "# Use our model to predict a value\n",
        "predicted = model.predict(X)\n",
        "\n",
        "# Score the prediction with MSE and R2\n",
        "mse = mean_squared_error(y, predicted)\n",
        "r2 = r2_score(y, predicted)\n",
        "\n",
        "print(f\"mean squared error (MSE): {mse}\")\n",
        "print(f\"R-squared (R2 ): {r2}\")"
      ],
      "metadata": {
        "colab": {
          "base_uri": "https://localhost:8080/"
        },
        "id": "xyWhgpJnpTBf",
        "outputId": "9f8c9a56-4445-481b-c190-08b1645f1f5a"
      },
      "execution_count": 6,
      "outputs": [
        {
          "output_type": "stream",
          "name": "stdout",
          "text": [
            "[01:03:14] WARNING: /workspace/src/objective/regression_obj.cu:152: reg:linear is now deprecated in favor of reg:squarederror.\n",
            "Training Score: 0.813983415667596\n",
            "Testing Score: 0.5702793456233568\n",
            "mean squared error (MSE): 0.21106571119282774\n",
            "R-squared (R2 ): 0.7254640817027289\n"
          ]
        }
      ]
    },
    {
      "cell_type": "code",
      "source": [],
      "metadata": {
        "id": "e7d2AKaOpXdi"
      },
      "execution_count": null,
      "outputs": []
    }
  ]
}