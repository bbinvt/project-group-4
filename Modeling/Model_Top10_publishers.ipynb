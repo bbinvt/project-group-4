{
  "nbformat": 4,
  "nbformat_minor": 0,
  "metadata": {
    "colab": {
      "provenance": []
    },
    "kernelspec": {
      "name": "python3",
      "display_name": "Python 3"
    },
    "language_info": {
      "name": "python"
    }
  },
  "cells": [
    {
      "cell_type": "code",
      "source": [],
      "metadata": {
        "id": "zHJr7cToqD02"
      },
      "execution_count": null,
      "outputs": []
    },
    {
      "cell_type": "code",
      "source": [
        "import pandas as pd\n",
        "import numpy as np\n",
        "import matplotlib.pyplot as plt\n",
        "from sklearn.linear_model import LinearRegression\n",
        "from sklearn.model_selection import train_test_split\n",
        "from sklearn.metrics import mean_squared_error, r2_score\n",
        "from xgboost.sklearn import XGBRegressor"
      ],
      "metadata": {
        "id": "-sj5iJpLqIT6"
      },
      "execution_count": 1,
      "outputs": []
    },
    {
      "cell_type": "code",
      "source": [
        "df = pd.read_csv('regreadyvgsales_TOP10PUB.csv')\n",
        "df.info()"
      ],
      "metadata": {
        "colab": {
          "base_uri": "https://localhost:8080/"
        },
        "id": "Fbuo990JqNnf",
        "outputId": "69a21e62-7c87-480e-9816-a974696e9c8d"
      },
      "execution_count": 5,
      "outputs": [
        {
          "output_type": "stream",
          "name": "stdout",
          "text": [
            "<class 'pandas.core.frame.DataFrame'>\n",
            "RangeIndex: 2621 entries, 0 to 2620\n",
            "Data columns (total 49 columns):\n",
            " #   Column                                  Non-Null Count  Dtype  \n",
            "---  ------                                  --------------  -----  \n",
            " 0   NA_Sales                                2621 non-null   float64\n",
            " 1   EU_Sales                                2621 non-null   float64\n",
            " 2   JP_Sales                                2621 non-null   float64\n",
            " 3   Other_Sales                             2621 non-null   float64\n",
            " 4   Global_Sales                            2621 non-null   float64\n",
            " 5   Years_on_Market                         2621 non-null   float64\n",
            " 6   Critic_Score                            2621 non-null   float64\n",
            " 7   User_Score                              2621 non-null   float64\n",
            " 8   Platform_3DS                            2621 non-null   float64\n",
            " 9   Platform_DS                             2621 non-null   float64\n",
            " 10  Platform_GBA                            2621 non-null   float64\n",
            " 11  Platform_GC                             2621 non-null   float64\n",
            " 12  Platform_Other                          2621 non-null   float64\n",
            " 13  Platform_PC                             2621 non-null   float64\n",
            " 14  Platform_PS                             2621 non-null   float64\n",
            " 15  Platform_PS2                            2621 non-null   float64\n",
            " 16  Platform_PS3                            2621 non-null   float64\n",
            " 17  Platform_PS4                            2621 non-null   float64\n",
            " 18  Platform_PSP                            2621 non-null   float64\n",
            " 19  Platform_Wii                            2621 non-null   float64\n",
            " 20  Platform_X360                           2621 non-null   float64\n",
            " 21  Platform_XB                             2621 non-null   float64\n",
            " 22  Platform_XOne                           2621 non-null   float64\n",
            " 23  Publisher_Activision                    2621 non-null   float64\n",
            " 24  Publisher_Electronic Arts               2621 non-null   float64\n",
            " 25  Publisher_Konami Digital Entertainment  2621 non-null   float64\n",
            " 26  Publisher_Namco Bandai Games            2621 non-null   float64\n",
            " 27  Publisher_Nintendo                      2621 non-null   float64\n",
            " 28  Publisher_Sega                          2621 non-null   float64\n",
            " 29  Publisher_Sony Computer Entertainment   2621 non-null   float64\n",
            " 30  Publisher_THQ                           2621 non-null   float64\n",
            " 31  Publisher_Take-Two Interactive          2621 non-null   float64\n",
            " 32  Publisher_Ubisoft                       2621 non-null   float64\n",
            " 33  Genre_Action                            2621 non-null   float64\n",
            " 34  Genre_Adventure                         2621 non-null   float64\n",
            " 35  Genre_Fighting                          2621 non-null   float64\n",
            " 36  Genre_Misc                              2621 non-null   float64\n",
            " 37  Genre_Platform                          2621 non-null   float64\n",
            " 38  Genre_Puzzle                            2621 non-null   float64\n",
            " 39  Genre_Racing                            2621 non-null   float64\n",
            " 40  Genre_Role-Playing                      2621 non-null   float64\n",
            " 41  Genre_Shooter                           2621 non-null   float64\n",
            " 42  Genre_Simulation                        2621 non-null   float64\n",
            " 43  Genre_Sports                            2621 non-null   float64\n",
            " 44  Genre_Strategy                          2621 non-null   float64\n",
            " 45  Rating_E                                2621 non-null   float64\n",
            " 46  Rating_M                                2621 non-null   float64\n",
            " 47  Rating_Other                            2621 non-null   float64\n",
            " 48  Rating_T                                2621 non-null   float64\n",
            "dtypes: float64(49)\n",
            "memory usage: 1003.5 KB\n"
          ]
        }
      ]
    },
    {
      "cell_type": "code",
      "execution_count": 4,
      "metadata": {
        "id": "6TjwYNy1p8S9",
        "colab": {
          "base_uri": "https://localhost:8080/"
        },
        "outputId": "f89c9fff-e106-4383-a342-3e1f3627c258"
      },
      "outputs": [
        {
          "output_type": "stream",
          "name": "stdout",
          "text": [
            "[01:07:57] WARNING: /workspace/src/objective/regression_obj.cu:152: reg:linear is now deprecated in favor of reg:squarederror.\n",
            "Training Score: 0.4390008489865832\n",
            "Testing Score: -0.03923700272184849\n",
            "mean squared error (MSE): 5.093035441986979\n",
            "R-squared (R2 ): 0.3806043114449774\n"
          ]
        }
      ],
      "source": [
        "# Split the data\n",
        "y = df.Global_Sales\n",
        "X = df.drop(['Global_Sales','NA_Sales','EU_Sales','JP_Sales','Other_Sales'], axis=1)\n",
        "\n",
        "X_train, X_test, y_train, y_test = train_test_split(X,y, random_state=1)\n",
        "\n",
        "# Create the model\n",
        "model = XGBRegressor()\n",
        "\n",
        "# Fit the model\n",
        "model.fit(X_train, y_train)\n",
        "training_score = model.score(X_train, y_train)\n",
        "testing_score = model.score(X_test, y_test)\n",
        "\n",
        "print(f'Training Score: {training_score}')\n",
        "print(f'Testing Score: {testing_score}')\n",
        "\n",
        "# Use our model to predict a value\n",
        "predicted = model.predict(X)\n",
        "\n",
        "# Score the prediction with MSE and R2\n",
        "mse = mean_squared_error(y, predicted)\n",
        "r2 = r2_score(y, predicted)\n",
        "\n",
        "print(f\"mean squared error (MSE): {mse}\")\n",
        "print(f\"R-squared (R2 ): {r2}\")"
      ]
    },
    {
      "cell_type": "code",
      "source": [],
      "metadata": {
        "id": "aGZLfC3Fqn6v"
      },
      "execution_count": null,
      "outputs": []
    }
  ]
}