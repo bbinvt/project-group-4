{
  "nbformat": 4,
  "nbformat_minor": 0,
  "metadata": {
    "colab": {
      "provenance": []
    },
    "kernelspec": {
      "name": "python3",
      "display_name": "Python 3"
    },
    "language_info": {
      "name": "python"
    }
  },
  "cells": [
    {
      "cell_type": "code",
      "source": [],
      "metadata": {
        "id": "zHJr7cToqD02"
      },
      "execution_count": null,
      "outputs": []
    },
    {
      "cell_type": "code",
      "source": [
        "import pandas as pd\n",
        "import numpy as np\n",
        "import matplotlib.pyplot as plt\n",
        "from sklearn.linear_model import LinearRegression\n",
        "from sklearn.model_selection import train_test_split\n",
        "from sklearn.metrics import mean_squared_error, r2_score\n",
        "from xgboost.sklearn import XGBRegressor"
      ],
      "metadata": {
        "id": "-sj5iJpLqIT6"
      },
      "execution_count": 1,
      "outputs": []
    },
    {
      "cell_type": "code",
      "source": [
        "df = pd.read_csv('regreadyvgsales_TOP10PUB.csv')\n",
        "df.info()"
      ],
      "metadata": {
        "colab": {
          "base_uri": "https://localhost:8080/"
        },
        "id": "Fbuo990JqNnf",
        "outputId": "3cffdf2e-94cf-4da6-aa19-c2a198e05e11"
      },
      "execution_count": 2,
      "outputs": [
        {
          "output_type": "stream",
          "name": "stdout",
          "text": [
            "<class 'pandas.core.frame.DataFrame'>\n",
            "RangeIndex: 3886 entries, 0 to 3885\n",
            "Data columns (total 49 columns):\n",
            " #   Column                                  Non-Null Count  Dtype  \n",
            "---  ------                                  --------------  -----  \n",
            " 0   NA_Sales                                3886 non-null   float64\n",
            " 1   EU_Sales                                3886 non-null   float64\n",
            " 2   JP_Sales                                3886 non-null   float64\n",
            " 3   Other_Sales                             3886 non-null   float64\n",
            " 4   Global_Sales                            3886 non-null   float64\n",
            " 5   Years_on_Market                         3886 non-null   float64\n",
            " 6   Critic_Score                            3886 non-null   float64\n",
            " 7   User_Score                              3886 non-null   float64\n",
            " 8   Platform_3DS                            2621 non-null   float64\n",
            " 9   Platform_DS                             2621 non-null   float64\n",
            " 10  Platform_GBA                            2621 non-null   float64\n",
            " 11  Platform_GC                             2621 non-null   float64\n",
            " 12  Platform_Other                          2621 non-null   float64\n",
            " 13  Platform_PC                             2621 non-null   float64\n",
            " 14  Platform_PS                             2621 non-null   float64\n",
            " 15  Platform_PS2                            2621 non-null   float64\n",
            " 16  Platform_PS3                            2621 non-null   float64\n",
            " 17  Platform_PS4                            2621 non-null   float64\n",
            " 18  Platform_PSP                            2621 non-null   float64\n",
            " 19  Platform_Wii                            2621 non-null   float64\n",
            " 20  Platform_X360                           2621 non-null   float64\n",
            " 21  Platform_XB                             2621 non-null   float64\n",
            " 22  Platform_XOne                           2621 non-null   float64\n",
            " 23  Publisher_Activision                    2621 non-null   float64\n",
            " 24  Publisher_Electronic Arts               2621 non-null   float64\n",
            " 25  Publisher_Konami Digital Entertainment  2621 non-null   float64\n",
            " 26  Publisher_Namco Bandai Games            2621 non-null   float64\n",
            " 27  Publisher_Nintendo                      2621 non-null   float64\n",
            " 28  Publisher_Sega                          2621 non-null   float64\n",
            " 29  Publisher_Sony Computer Entertainment   2621 non-null   float64\n",
            " 30  Publisher_THQ                           2621 non-null   float64\n",
            " 31  Publisher_Take-Two Interactive          2621 non-null   float64\n",
            " 32  Publisher_Ubisoft                       2621 non-null   float64\n",
            " 33  Genre_Action                            2621 non-null   float64\n",
            " 34  Genre_Adventure                         2621 non-null   float64\n",
            " 35  Genre_Fighting                          2621 non-null   float64\n",
            " 36  Genre_Misc                              2621 non-null   float64\n",
            " 37  Genre_Platform                          2621 non-null   float64\n",
            " 38  Genre_Puzzle                            2621 non-null   float64\n",
            " 39  Genre_Racing                            2621 non-null   float64\n",
            " 40  Genre_Role-Playing                      2621 non-null   float64\n",
            " 41  Genre_Shooter                           2621 non-null   float64\n",
            " 42  Genre_Simulation                        2621 non-null   float64\n",
            " 43  Genre_Sports                            2621 non-null   float64\n",
            " 44  Genre_Strategy                          2621 non-null   float64\n",
            " 45  Rating_E                                2621 non-null   float64\n",
            " 46  Rating_M                                2621 non-null   float64\n",
            " 47  Rating_Other                            2621 non-null   float64\n",
            " 48  Rating_T                                2621 non-null   float64\n",
            "dtypes: float64(49)\n",
            "memory usage: 1.5 MB\n"
          ]
        }
      ]
    },
    {
      "cell_type": "code",
      "execution_count": 3,
      "metadata": {
        "id": "6TjwYNy1p8S9",
        "colab": {
          "base_uri": "https://localhost:8080/"
        },
        "outputId": "320158ab-c4b4-4b0f-cc47-5e5efc227d45"
      },
      "outputs": [
        {
          "output_type": "stream",
          "name": "stdout",
          "text": [
            "[17:37:56] WARNING: /workspace/src/objective/regression_obj.cu:152: reg:linear is now deprecated in favor of reg:squarederror.\n",
            "Training Score: 0.5095018603490048\n",
            "Testing Score: 0.25249121615306325\n",
            "mean squared error (MSE): 7.654762878829899\n",
            "R-squared (R2 ): 0.44847767433775354\n"
          ]
        }
      ],
      "source": [
        "# Split the data\n",
        "y = df.Global_Sales\n",
        "X = df.drop(['Global_Sales','NA_Sales','EU_Sales','JP_Sales','Other_Sales'], axis=1)\n",
        "\n",
        "X_train, X_test, y_train, y_test = train_test_split(X,y, random_state=1)\n",
        "\n",
        "# Create the model\n",
        "model = XGBRegressor()\n",
        "\n",
        "# Fit the model\n",
        "model.fit(X_train, y_train)\n",
        "training_score = model.score(X_train, y_train)\n",
        "testing_score = model.score(X_test, y_test)\n",
        "\n",
        "print(f'Training Score: {training_score}')\n",
        "print(f'Testing Score: {testing_score}')\n",
        "\n",
        "# Use our model to predict a value\n",
        "predicted = model.predict(X)\n",
        "\n",
        "# Score the prediction with MSE and R2\n",
        "mse = mean_squared_error(y, predicted)\n",
        "r2 = r2_score(y, predicted)\n",
        "\n",
        "print(f\"mean squared error (MSE): {mse}\")\n",
        "print(f\"R-squared (R2 ): {r2}\")"
      ]
    },
    {
      "cell_type": "code",
      "source": [
        "# Split the data\n",
        "y = df.NA_Sales\n",
        "X = df.drop(['Global_Sales','NA_Sales','EU_Sales','JP_Sales','Other_Sales'], axis=1)\n",
        "\n",
        "X_train, X_test, y_train, y_test = train_test_split(X,y, random_state=1)\n",
        "\n",
        "# Create the model\n",
        "model = XGBRegressor()\n",
        "\n",
        "# Fit the model\n",
        "model.fit(X_train, y_train)\n",
        "training_score = model.score(X_train, y_train)\n",
        "testing_score = model.score(X_test, y_test)\n",
        "\n",
        "print(f'Training Score: {training_score}')\n",
        "print(f'Testing Score: {testing_score}')\n",
        "\n",
        "# Use our model to predict a value\n",
        "predicted = model.predict(X)\n",
        "\n",
        "# Score the prediction with MSE and R2\n",
        "mse = mean_squared_error(y, predicted)\n",
        "r2 = r2_score(y, predicted)\n",
        "\n",
        "print(f\"mean squared error (MSE): {mse}\")\n",
        "print(f\"R-squared (R2 ): {r2}\")"
      ],
      "metadata": {
        "id": "aGZLfC3Fqn6v",
        "colab": {
          "base_uri": "https://localhost:8080/"
        },
        "outputId": "90c3a2c7-f9ec-4549-e227-b2f55882fe0e"
      },
      "execution_count": 4,
      "outputs": [
        {
          "output_type": "stream",
          "name": "stdout",
          "text": [
            "[17:38:50] WARNING: /workspace/src/objective/regression_obj.cu:152: reg:linear is now deprecated in favor of reg:squarederror.\n",
            "Training Score: 0.5150384792122638\n",
            "Testing Score: 0.28942794395142435\n",
            "mean squared error (MSE): 1.7108825102229968\n",
            "R-squared (R2 ): 0.4649325651206715\n"
          ]
        }
      ]
    },
    {
      "cell_type": "code",
      "source": [],
      "metadata": {
        "id": "6AKYiOmkzx9K"
      },
      "execution_count": null,
      "outputs": []
    }
  ]
}