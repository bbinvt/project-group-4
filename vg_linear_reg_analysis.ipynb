{
 "cells": [
  {
   "cell_type": "code",
   "execution_count": null,
   "id": "bc460279",
   "metadata": {},
   "outputs": [],
   "source": [
    "# Import dependencies\n",
    "import pandas as pd\n",
    "import numpy as np\n",
    "import matplotlib.pyplot as plt\n",
    "from sklearn.linear_model import LinearRegression"
   ]
  },
  {
   "cell_type": "code",
   "execution_count": null,
   "id": "88e9b143",
   "metadata": {},
   "outputs": [],
   "source": [
    "# Load in clean and encoded data set\n",
    "\n",
    "df = pd.read_csv('regreadyvgsales2.csv')"
   ]
  },
  {
   "cell_type": "code",
   "execution_count": null,
   "id": "d7ad5297",
   "metadata": {},
   "outputs": [],
   "source": [
    "# Make sure data loaded properly\n",
    "df.info()"
   ]
  },
  {
   "cell_type": "code",
   "execution_count": null,
   "id": "6f376031",
   "metadata": {},
   "outputs": [],
   "source": [
    "# It appears our data is not 100% clean, we will need to drop the TBD's\n",
    "\n",
    "print(df.loc[df.User_Score == 'tbd'].count())\n"
   ]
  },
  {
   "cell_type": "code",
   "execution_count": null,
   "id": "6a444e80",
   "metadata": {},
   "outputs": [],
   "source": [
    "# Lets drop the row with the 'tbd' string in User_Score\n",
    "df = df[df.User_Score !='tbd']"
   ]
  },
  {
   "cell_type": "code",
   "execution_count": null,
   "id": "b87d41e8",
   "metadata": {},
   "outputs": [],
   "source": [
    "# Update from object to float\n",
    "df.User_Score = df.User_Score.astype(float)"
   ]
  },
  {
   "cell_type": "code",
   "execution_count": null,
   "id": "059362f7",
   "metadata": {},
   "outputs": [],
   "source": [
    "# Let's first try to model Global sales based off of critic & user scores\n",
    "\n",
    "# Target Variable & feature variables\n",
    "y = df.Global_Sales\n",
    "X = df.drop(['Global_Sales', 'NA_Sales','EU_Sales', 'JP_Sales','Other_Sales'], axis=1)"
   ]
  },
  {
   "cell_type": "code",
   "execution_count": null,
   "id": "67c64abd",
   "metadata": {},
   "outputs": [],
   "source": [
    "# Split data into train & test sets\n",
    "from sklearn.model_selection import train_test_split\n",
    "\n",
    "\n",
    "X_train, X_test, y_train, y_test = train_test_split(X, y, random_state=1)"
   ]
  },
  {
   "cell_type": "code",
   "execution_count": null,
   "id": "155d5570",
   "metadata": {},
   "outputs": [],
   "source": [
    "# create the model variable\n",
    "\n",
    "model = LinearRegression()\n",
    "\n",
    "# Fit model\n",
    "model.fit(X_train, y_train)\n",
    "\n",
    "# Evaluate model scores\n",
    "training_score = model.score(X_train, y_train)\n",
    "testing_score = model.score(X_test, y_test)\n",
    "\n",
    "# Print score results\n",
    "print(f'Training Score: {training_score}')\n",
    "print(f'Testing Score: {testing_score}')\n"
   ]
  },
  {
   "cell_type": "code",
   "execution_count": null,
   "id": "a1dd9b93",
   "metadata": {},
   "outputs": [],
   "source": [
    "# Plot results\n",
    "plt.scatter(model.predict(X_train), model.predict(X_train) - y_train, c=\"blue\", label=\"Training Data\")\n",
    "plt.scatter(model.predict(X_test), model.predict(X_test) - y_test, c=\"orange\", label=\"Testing Data\")\n",
    "plt.legend()\n",
    "plt.hlines(y=0, xmin=y.min(), xmax=y.max())\n",
    "plt.title(\"Residual Plot\")\n",
    "plt.show()"
   ]
  },
  {
   "cell_type": "code",
   "execution_count": null,
   "id": "5a8a6d57",
   "metadata": {},
   "outputs": [],
   "source": []
  }
 ],
 "metadata": {
  "kernelspec": {
   "display_name": "Python 3 (ipykernel)",
   "language": "python",
   "name": "python3"
  },
  "language_info": {
   "codemirror_mode": {
    "name": "ipython",
    "version": 3
   },
   "file_extension": ".py",
   "mimetype": "text/x-python",
   "name": "python",
   "nbconvert_exporter": "python",
   "pygments_lexer": "ipython3",
   "version": "3.10.6"
  }
 },
 "nbformat": 4,
 "nbformat_minor": 5
}
